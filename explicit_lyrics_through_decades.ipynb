{
 "cells": [
  {
   "attachments": {},
   "cell_type": "markdown",
   "metadata": {},
   "source": [
    "# Explicit Song Lyrics Through the Decades\n",
    "##### Prisha Bhatia and Kenta Terasaki\n",
    "\n",
    "\n",
    "### Question\n",
    "As with many other things in life, the music industry is constantly evolving. Current trends, the artists who are popular, and the interests of audience all have an influence on what is popular and what is talked about in music. A big trend we seem to see now is every song seems to be extremely explicit. Parents moderate this as they choose, some by letting their kids decide what they listen to, some by completely controlling their child's music, and some by only banning certain songs. We have heard many people from older generations mention that their generation was better and didn't have the \"crude and disrespectful\" values that we have. To put this to the test, we decided to see how music has evolved through the decades. \n",
    "\n",
    "We ask: how has the use of explicit lyrics in music changed throughout the decades?\n",
    "\n",
    "\n",
    "### Methods\n",
    "The data we chose was the Wikipedia page listing the top 100 billboard music songs for every year. In order to scrap this data, we installed the beautifulsoup4 package. We also needed to import requests and pandas to be able to work with our data.\n",
    "\n",
    "To ensure the latest version of the code shows up, run the cell below."
   ]
  },
  {
   "cell_type": "code",
   "execution_count": 1,
   "metadata": {},
   "outputs": [],
   "source": [
    "%load_ext autoreload\n",
    "%autoreload 2"
   ]
  },
  {
   "attachments": {},
   "cell_type": "markdown",
   "metadata": {},
   "source": [
    "In order to be able to access the function to scrape the data, we import it below."
   ]
  },
  {
   "cell_type": "code",
   "execution_count": 2,
   "metadata": {},
   "outputs": [],
   "source": [
    "from get_data import get_table"
   ]
  },
  {
   "attachments": {},
   "cell_type": "markdown",
   "metadata": {},
   "source": [
    "The get_table function takes in a year and returns the Wikipedia table associated with that year in list format. Specifically, it is a list of lists. The inner list contains the song and the artist ['Song', 'Artist']. The order that the songs are in is the order that they are ranked (i.e. the element in the list at index 0 is the number one song, and the element in the list at index 99 is the song in the 100th place). In the example below, we input the year 1990 and get a list of 100 songs and their corresponding artists."
   ]
  },
  {
   "cell_type": "code",
   "execution_count": 12,
   "metadata": {},
   "outputs": [
    {
     "name": "stdout",
     "output_type": "stream",
     "text": [
      "[['Hold On', 'Wilson Phillips'], ['It Must Have Been Love', 'Roxette'], ['Nothing Compares 2 U', \"Sinéad O'Connor\"], ['Poison', 'Bell Biv DeVoe'], ['Vogue', 'Madonna'], ['Vision of Love', 'Mariah Carey'], ['Another Day in Paradise', 'Phil Collins'], ['Hold On', 'En Vogue'], ['Cradle of Love', 'Billy Idol'], ['Blaze of Glory', 'Jon Bon Jovi'], ['Do Me!', 'Bell Biv DeVoe'], ['How Am I Supposed to Live Without You', 'Michael Bolton'], ['Pump Up the Jam', 'Technotronic'], ['Opposites Attract', 'Paula Abdul'], ['Escapade', 'Janet Jackson'], ['All I Wanna Do Is Make Love to You', 'Heart'], ['Close to You', 'Maxi Priest'], ['Black Velvet', 'Alannah Myles'], ['Release Me', 'Wilson Phillips'], [\"Don't Know Much\", 'Linda Ronstadt featuring Aaron Neville'], ['All Around the World', 'Lisa Stansfield'], ['I Wanna Be Rich', 'Calloway'], ['Rub You the Right Way', 'Johnny Gill'], [\"She Ain't Worth It\", 'Glenn Medeiros featuring Bobby Brown'], ['If Wishes Came True', 'Sweet Sensation'], ['The Power', 'Snap!'], [\"(Can't Live Without Your) Love and Affection\", 'Nelson'], ['Love Will Lead You Back', 'Taylor Dayne'], [\"Don't Wanna Fall in Love\", 'Jane Child'], ['Two to Make It Right', 'Seduction'], ['Sending All My Love', 'Linear'], ['Unskinny Bop', 'Poison'], ['Step by Step', 'New Kids on the Block'], ['Dangerous', 'Roxette'], [\"We Didn't Start the Fire\", 'Billy Joel'], [\"I Don't Have the Heart\", 'James Ingram'], ['Downtown Train', 'Rod Stewart'], ['Rhythm Nation', 'Janet Jackson'], [\"I'll Be Your Everything\", 'Tommy Page'], ['Roam', \"The B-52's\"], ['Everything', 'Jody Watley'], ['Back to Life (However Do You Want Me)', 'Soul II Soul featuring Caron Wheeler'], ['Here and Now', 'Luther Vandross'], ['Alright', 'Janet Jackson'], ['Ice Ice Baby', 'Vanilla Ice'], ['Blame It on the Rain', 'Milli Vanilli'], ['Have You Seen Her', 'MC Hammer'], ['With Every Beat of My Heart', 'Taylor Dayne'], ['Come Back to Me', 'Janet Jackson'], ['No More Lies', \"Michel'le\"], ['Praying for Time', 'George Michael'], ['How Can We Be Lovers', 'Michael Bolton'], ['Do You Remember?', 'Phil Collins'], ['Ready or Not', 'After 7'], [\"U Can't Touch This\", 'MC Hammer'], ['I Wish It Would Rain Down', 'Phil Collins'], ['Just Between You and Me', 'Lou Gramm'], ['Something Happened on the Way to Heaven', 'Phil Collins'], ['Black Cat', 'Janet Jackson'], [\"Can't Stop\", 'After 7'], [\"Janie's Got a Gun\", 'Aerosmith'], ['The Humpty Dance', 'Digital Underground'], [\"I'll Be Your Shelter\", 'Taylor Dayne'], [\"Free Fallin'\", 'Tom Petty'], ['Giving You the Benefit', 'Pebbles'], ['Enjoy the Silence', 'Depeche Mode'], ['Love Song', 'Tesla'], ['Price of Love', 'Bad English'], ['Girls Nite Out', 'Tyler Collins'], ['King of Wishful Thinking', 'Go West'], ['What Kind of Man Would I Be?', 'Chicago'], ['I Remember You', 'Skid Row'], ['Get Up! (Before the Night Is Over)', 'Technotronic featuring Ya Kid K'], ['Here We Are', 'Gloria Estefan'], ['Epic', 'Faith No More'], ['Love Takes Time', 'Mariah Carey'], ['Just Like Jesse James', 'Cher'], ['Love Shack', \"The B-52's\"], ['All or Nothing', 'Milli Vanilli'], ['Romeo', 'Dino'], ['Everybody Everybody', 'Black Box'], ['I Go to Extremes', 'Billy Joel'], ['Whip Appeal', 'Babyface'], ['Oh Girl', 'Paul Young'], [\"C'mon and Get My Love\", 'D Mob with Cathy Dennis'], [\"(It's Just) The Way That You Love Me\", 'Paula Abdul'], [\"We Can't Go Wrong\", 'The Cover Girls'], [\"When I'm Back on My Feet Again\", 'Michael Bolton'], ['Make You Sweat', 'Keith Sweat'], [\"This One's for the Children\", 'New Kids on the Block'], ['What It Takes', 'Aerosmith'], ['Forever', 'Kiss'], ['Jerk Out', 'The Time'], ['Just a Friend', 'Biz Markie'], ['Whole Wide World', \"A'Me Lorain\"], ['Without You', 'Mötley Crüe'], ['Swing the Mood', 'Jive Bunny and the Mastermixers'], ['Thieves in the Temple', 'Prince'], ['Mentirosa', 'Mellow Man Ace'], ['Tic-Tac-Toe', 'Kyper']]\n"
     ]
    }
   ],
   "source": [
    "nineties_data = get_table(1990)\n",
    "print(nineties_data)"
   ]
  }
 ],
 "metadata": {
  "kernelspec": {
   "display_name": "base",
   "language": "python",
   "name": "python3"
  },
  "language_info": {
   "codemirror_mode": {
    "name": "ipython",
    "version": 3
   },
   "file_extension": ".py",
   "mimetype": "text/x-python",
   "name": "python",
   "nbconvert_exporter": "python",
   "pygments_lexer": "ipython3",
   "version": "3.9.13"
  },
  "orig_nbformat": 4
 },
 "nbformat": 4,
 "nbformat_minor": 2
}
